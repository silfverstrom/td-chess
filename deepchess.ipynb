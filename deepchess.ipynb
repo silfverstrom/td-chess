{
 "cells": [
  {
   "cell_type": "code",
   "execution_count": 24,
   "metadata": {},
   "outputs": [],
   "source": [
    "import  chess\n",
    "import chess.engine\n",
    "import numpy as np\n",
    "import tdchess.train\n",
    "import tensorflow as tf\n",
    "import pdb\n",
    "import random"
   ]
  },
  {
   "cell_type": "code",
   "execution_count": 64,
   "metadata": {},
   "outputs": [
    {
     "ename": "SyntaxError",
     "evalue": "invalid syntax (<ipython-input-64-554ce879aafe>, line 18)",
     "output_type": "error",
     "traceback": [
      "\u001b[0;36m  File \u001b[0;32m\"<ipython-input-64-554ce879aafe>\"\u001b[0;36m, line \u001b[0;32m18\u001b[0m\n\u001b[0;31m    while (game = chess.pgn.read_game(f)):\u001b[0m\n\u001b[0m                ^\u001b[0m\n\u001b[0;31mSyntaxError\u001b[0m\u001b[0;31m:\u001b[0m invalid syntax\n"
     ]
    }
   ],
   "source": [
    "SKIP_FIRST_MOVES = 6\n",
    "MAX_POSITIONS_PER_GAME = 1\n",
    "def parse_game(game):\n",
    "    board = chess.Board()\n",
    "    fens = []\n",
    "    for uci in game.mainline_moves():\n",
    "        pieces_before = len(board.piece_map().keys())\n",
    "        board.push(uci)\n",
    "        # Determine if something was taken\n",
    "        pieces_after = len(board.piece_map().keys())\n",
    "        if board.fullmove_number > SKIP_FIRST_MOVES and pieces_before == pieces_after:\n",
    "            if random.randint(0,10) >= 7 and len(fens) < MAX_POSITIONS_PER_GAME:\n",
    "                fens.append(board.fen())\n",
    "    return fens\n",
    "\n",
    "with open('data/ccrl/CCRL-4040.[1189229].pgn', 'r') as f:\n",
    "    fens = []\n",
    "    while True:\n",
    "        try\n",
    "        game = chess.pgn.read_game(f)\n",
    "        #f_ = parse_game(game)\n",
    "        #fens.extend(f_)\n",
    "    print(len(fens))"
   ]
  },
  {
   "cell_type": "code",
   "execution_count": null,
   "metadata": {},
   "outputs": [],
   "source": [
    "random.randint(0,10)"
   ]
  },
  {
   "cell_type": "code",
   "execution_count": null,
   "metadata": {},
   "outputs": [],
   "source": [
    "def show_board(fen):\n",
    "    print(fen)\n",
    "    board = chess.Board(fen)\n",
    "    return board\n",
    "show_board(fens[1000])"
   ]
  },
  {
   "cell_type": "code",
   "execution_count": null,
   "metadata": {},
   "outputs": [],
   "source": []
  }
 ],
 "metadata": {
  "kernelspec": {
   "display_name": "Python 3",
   "language": "python",
   "name": "python3"
  },
  "language_info": {
   "codemirror_mode": {
    "name": "ipython",
    "version": 3
   },
   "file_extension": ".py",
   "mimetype": "text/x-python",
   "name": "python",
   "nbconvert_exporter": "python",
   "pygments_lexer": "ipython3",
   "version": "3.8.3"
  }
 },
 "nbformat": 4,
 "nbformat_minor": 4
}
